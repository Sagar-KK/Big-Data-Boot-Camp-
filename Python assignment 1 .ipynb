{
 "cells": [
  {
   "cell_type": "markdown",
   "metadata": {},
   "source": [
    "Q1. Why do we call Python as a general purpose and high-level programming language?\n",
    "\n",
    "We call python a genral perpose language because we can use python for multiple purposes from web designing, \n",
    "building software, machine learning and deep learning softwares etc.\n",
    "And its called a high-level programming language because it easy for human understanding ie it is closer to human \n",
    "language and farther than machine language. \n"
   ]
  },
  {
   "cell_type": "markdown",
   "metadata": {},
   "source": [
    "Q2. Why is Python called a dynamically typed language?\n",
    "\n",
    "Because when-ever we assign a value to a variable it(python) dynamically assigns the apporpriate data type for it \n"
   ]
  },
  {
   "cell_type": "markdown",
   "metadata": {},
   "source": [
    "Q3. List some pros and cons of Python programming language?\n",
    "\n",
    "Pros \n",
    "1 easy to understand and learn\n",
    "2 strong developer support \n",
    "3 rich library support to write very difficult programs in simple 4-5 lines etc.\n",
    "Cons\n",
    "1 it is slow compared to c/c++ so it might be difficult to use on the end devices if there is a very low latency requirement.\n",
    "\n"
   ]
  },
  {
   "cell_type": "markdown",
   "metadata": {},
   "source": [
    "Q4. In what all domains can we use Python?\n",
    "\n",
    "1 Web Development\n",
    "2 Artificial intelligence ML/DL\n",
    "3 software development\n",
    "4 big data \n",
    "5 robotics etc.\n"
   ]
  },
  {
   "cell_type": "markdown",
   "metadata": {},
   "source": [
    "Q5. What are variable and how can we declare them?\n",
    "\n",
    "variable is name given to a memory location \n",
    "a = 5   here a is a variable name given to a memory location which stores an integer whose value is 5\n"
   ]
  },
  {
   "cell_type": "markdown",
   "metadata": {},
   "source": [
    "Q6. How can we take an input from the user in Python?"
   ]
  },
  {
   "cell_type": "code",
   "execution_count": 4,
   "metadata": {},
   "outputs": [
    {
     "name": "stdout",
     "output_type": "stream",
     "text": [
      "Enter any value10\n"
     ]
    }
   ],
   "source": [
    "input_var = input(\"Enter any value\")"
   ]
  },
  {
   "cell_type": "markdown",
   "metadata": {},
   "source": [
    "Q7. What is the default datatype of the value that has been taken as an input using input() function?\n",
    "\n",
    "\n",
    "\n",
    "String is the default datatype of the value that has been taken as an input using input() function\n"
   ]
  },
  {
   "cell_type": "markdown",
   "metadata": {},
   "source": [
    "Q8. What is type casting?\n",
    "\n",
    "So the default datatype of the value that has been taken as an input using input() function is string \n",
    "so to perform operation on it or lets say we are making an calculator app in python but the user input \n",
    "is a string so to persform operations on the input values we have to change its type to we type cast it to int \n",
    "so like "
   ]
  },
  {
   "cell_type": "code",
   "execution_count": 7,
   "metadata": {},
   "outputs": [
    {
     "name": "stdout",
     "output_type": "stream",
     "text": [
      "input first val 5\n",
      "input second val 6\n",
      "sumation is  11\n"
     ]
    }
   ],
   "source": [
    "val_1 = int(input(\"input first val \"))\n",
    "val_2 = int(input(\"input second val \"))\n",
    "print(\"sumation is \",val_1+val_2)"
   ]
  },
  {
   "cell_type": "markdown",
   "metadata": {},
   "source": [
    "Q9. Can we take more than one input from the user using single input() function? If yes, how? If no, why?\n",
    "Yes "
   ]
  },
  {
   "cell_type": "code",
   "execution_count": 17,
   "metadata": {},
   "outputs": [
    {
     "name": "stdout",
     "output_type": "stream",
     "text": [
      "select 1 for addition\n",
      "select 2 for substraction\n",
      "select 3 for multiplication\n",
      "select 4 for division\n",
      "'num 1' space 'num 2' space 'operator' 3 3 3 \n",
      "multiplication =  9\n"
     ]
    }
   ],
   "source": [
    "while(True):\n",
    "    print(\"select 1 for addition\")\n",
    "    print(\"select 2 for substraction\")\n",
    "    print(\"select 3 for multiplication\")\n",
    "    print(\"select 4 for division\")\n",
    "\n",
    "    num_1,num_2,operation_num = list(map(int,input(\"'num 1' space 'num 2' space 'operator' \").split()))\n",
    "    if(operation_num == 1):\n",
    "        print(\"summation = \", num_1+num_2)\n",
    "        break\n",
    "    elif(operation_num == 2):\n",
    "        print(\"substraction = \", num_1-num_2)\n",
    "        break\n",
    "    elif(operation_num == 3):\n",
    "        print(\"multiplication = \", num_1*num_2)\n",
    "        break\n",
    "    elif(operation_num == 4):\n",
    "        print(\"division = \", num_1/num_2) #float division\n",
    "        break\n",
    "    else:\n",
    "        print(\"enter valid operator\")"
   ]
  },
  {
   "cell_type": "markdown",
   "metadata": {},
   "source": [
    "Q10. What are keywords?\n",
    "\n",
    "Keywords are special variables who have some special functionality assigned to it ."
   ]
  },
  {
   "cell_type": "markdown",
   "metadata": {},
   "source": [
    "Q11. Can we use keywords as a variable? Support your answer with reason\n",
    "\n",
    "No we cannot use keywords as a variable name as it will create an ambiguity for the intepreter as to which it the variable and which one is the keyword .\n",
    "So we should not use keywords as vaariables."
   ]
  },
  {
   "cell_type": "markdown",
   "metadata": {},
   "source": [
    "Q12. What is indentation? What's the use of indentaion in Python?\n",
    "\n",
    "So in other languagel like c/c++ we have to use brackets to define the score or range of that function/variables or that block of code \n",
    "in python instead of using brakets we use indentation .\n",
    "We can still use brackets but the indentation is more intutive for humans ."
   ]
  },
  {
   "cell_type": "markdown",
   "metadata": {},
   "source": [
    "Q13. How can we throw some output in Python?\n",
    "\n",
    "Using print(\" \") statement"
   ]
  },
  {
   "cell_type": "code",
   "execution_count": 40,
   "metadata": {},
   "outputs": [
    {
     "name": "stdout",
     "output_type": "stream",
     "text": [
      "INeuron BigData Bootcamp 2.0 is the best in the world #proud Indian\n"
     ]
    }
   ],
   "source": [
    "print(\"INeuron BigData Bootcamp 2.0 is the best in the world #proud Indian\")"
   ]
  },
  {
   "cell_type": "markdown",
   "metadata": {},
   "source": [
    "Q14. What are operators in Python?\n",
    "\n",
    "operators are nothing but symbols who have some functionality assigned to it, lets say \"+\" operator  it has the addition operation assiged to it .\n",
    "\n",
    "Different types of operators in python\n",
    "1 Arithmetic operator\n",
    "\n",
    "2 Logical operator \n",
    "\n",
    "3 Assignment operator\n",
    "\n",
    "4 Comparision operator etc\n",
    "\n"
   ]
  },
  {
   "cell_type": "markdown",
   "metadata": {},
   "source": [
    "Q15. What is difference between / and // operators?\n",
    "\n",
    "so / float division and // is integer division ie 5/2 = 2.5 and 5//2 is 2"
   ]
  },
  {
   "cell_type": "markdown",
   "metadata": {},
   "source": [
    "Q16. Write a code that gives following as an output.\n",
    "```\n",
    "iNeuroniNeuroniNeuroniNeuron\n",
    "\n",
    "```"
   ]
  },
  {
   "cell_type": "code",
   "execution_count": 20,
   "metadata": {},
   "outputs": [
    {
     "name": "stdout",
     "output_type": "stream",
     "text": [
      "iNeuroniNeuroniNeuroniNeuron\n"
     ]
    }
   ],
   "source": [
    "print(\"iNeuron\"*4)"
   ]
  },
  {
   "cell_type": "markdown",
   "metadata": {},
   "source": [
    "Q17. Write a code to take a number as an input from the user and check if the number is odd or even.\n"
   ]
  },
  {
   "cell_type": "code",
   "execution_count": 21,
   "metadata": {},
   "outputs": [
    {
     "name": "stdout",
     "output_type": "stream",
     "text": [
      "44\n",
      "even number\n"
     ]
    }
   ],
   "source": [
    "num = int(input())\n",
    "if(num%2==0):\n",
    "  print(\"even number\")\n",
    "else:\n",
    "  print(\"odd number\")"
   ]
  },
  {
   "cell_type": "markdown",
   "metadata": {},
   "source": [
    "Q18. What are boolean operator?\n",
    "\n",
    "In computer science, a Boolean expression is an expression used in programming languages that produces a Boolean value when evaluated. A Boolean value is either true or false. A Boolean expression may be composed of a combination of the Boolean constants true or false, Boolean-typed variables, Boolean-valued operators, and Boolean-valued functions.\n",
    "REFERENCE - WIKIPEDIA\n",
    "\n",
    "so lets say i wanted to check if my list contains a certain element"
   ]
  },
  {
   "cell_type": "code",
   "execution_count": 44,
   "metadata": {},
   "outputs": [
    {
     "data": {
      "text/plain": [
       "True"
      ]
     },
     "execution_count": 44,
     "metadata": {},
     "output_type": "execute_result"
    }
   ],
   "source": [
    "numbers = [12, 75, 150, 180, 145, 525, 50]\n",
    "106 not in numbers"
   ]
  },
  {
   "cell_type": "markdown",
   "metadata": {},
   "source": [
    "Q19. What will the output of the following?\n",
    "\n",
    "```\n",
    "1 or 0\n",
    "1\n",
    "0 and 0\n",
    "0\n",
    "True and False and True\n",
    "False\n",
    "1 or 0 or 0\n",
    "1\n",
    "```\n"
   ]
  },
  {
   "cell_type": "code",
   "execution_count": 23,
   "metadata": {},
   "outputs": [
    {
     "name": "stdout",
     "output_type": "stream",
     "text": [
      "1\n",
      "0\n",
      "False\n",
      "1\n"
     ]
    }
   ],
   "source": [
    "print(1 or 0)\n",
    "print(0 and 0)\n",
    "print(True and False and True)\n",
    "print(1 or 0 or 0)"
   ]
  },
  {
   "cell_type": "markdown",
   "metadata": {},
   "source": [
    "Q20. What are conditional statements in Python?\n",
    "\n",
    "conditional statement in python is a statement which allows to execute one block of code or another block of code based on a condition\n"
   ]
  },
  {
   "cell_type": "markdown",
   "metadata": {},
   "source": [
    "Q21. What is use of 'if', 'elif' and 'else' keywords?\n",
    "\n",
    "\" if \" conditional statement is used to execute cetrain block of code if a certain condition is satisfied \n",
    "\" elif \" statement is used to check another condition if the above \" if \" condition fails\n",
    "\" else \" statement is used to execute a block of code if every above condition fails\n"
   ]
  },
  {
   "cell_type": "code",
   "execution_count": 61,
   "metadata": {},
   "outputs": [
    {
     "name": "stdout",
     "output_type": "stream",
     "text": [
      "33\n",
      "barely pass\n"
     ]
    }
   ],
   "source": [
    "marks = int(input())\n",
    "threshold = 33\n",
    "if(marks>threshold):\n",
    "    print(\"Pass\")\n",
    "elif(marks==33):\n",
    "    print(\"barely pass\")\n",
    "else:\n",
    "    print(\"Fail\")\n"
   ]
  },
  {
   "cell_type": "markdown",
   "metadata": {},
   "source": [
    "Q22. Write a code to take the age of person as an input and if age >= 18 display \"I can vote\". If age is < 18 display \"I can't vote\".\n"
   ]
  },
  {
   "cell_type": "code",
   "execution_count": 26,
   "metadata": {},
   "outputs": [
    {
     "name": "stdout",
     "output_type": "stream",
     "text": [
      "enter your input17\n",
      "i can't vote\n"
     ]
    }
   ],
   "source": [
    "age = int(input(\"enter your input\"))\n",
    "if(age>=18):\n",
    "    print(\"I can vote\")\n",
    "else:\n",
    "    print(\"i can't vote\")"
   ]
  },
  {
   "cell_type": "markdown",
   "metadata": {},
   "source": [
    "Q23. Write a code that displays the sum of all the even numbers from the given list.\n",
    "```\n",
    "numbers = [12, 75, 150, 180, 145, 525, 50]\n",
    "```"
   ]
  },
  {
   "cell_type": "code",
   "execution_count": 29,
   "metadata": {},
   "outputs": [
    {
     "name": "stdout",
     "output_type": "stream",
     "text": [
      "sum of all the even numbers is 392\n"
     ]
    }
   ],
   "source": [
    "numbers = [12, 75, 150, 180, 145, 525, 50]\n",
    "\n",
    "sum_var = 0\n",
    "for i in numbers:\n",
    "    if(i%2==0):\n",
    "        sum_var+=i\n",
    "print(\"sum of all the even numbers is\",sum_var)"
   ]
  },
  {
   "cell_type": "markdown",
   "metadata": {},
   "source": [
    "Q24. Write a code to take 3 numbers as an input from the user and display the greatest no as output.\n"
   ]
  },
  {
   "cell_type": "code",
   "execution_count": 35,
   "metadata": {},
   "outputs": [
    {
     "name": "stdout",
     "output_type": "stream",
     "text": [
      "Enter 3 numbers 34 43 3\n",
      "greatest number is  43\n"
     ]
    }
   ],
   "source": [
    "num_1,num_2,num_3 = list(map(int,input(\"Enter 3 numbers \").split()))\n",
    "if(num_1>num_2):\n",
    "    if(num_1>num_3):\n",
    "        print('greatest number is ',num_1)\n",
    "    else:\n",
    "        print('greatest number is ',num_3)\n",
    "elif(num_2>num_3):\n",
    "    print('greatest number is ',num_2)\n",
    "else:\n",
    "    print('greatest number is ',num_3)\n",
    "# here if all the numbers are equal the code will print num 3 as biggest number"
   ]
  },
  {
   "cell_type": "markdown",
   "metadata": {},
   "source": [
    "Q25. Write a program to display only those numbers from a list that satisfy the following conditions\n",
    "\n",
    "- The number must be divisible by five\n",
    "\n",
    "- If the number is greater than 150, then skip it and move to the next number\n",
    "\n",
    "- If the number is greater than 500, then stop the loop\n",
    "```\n",
    "numbers = [12, 75, 150, 180, 145, 525, 50]\n",
    "```\n"
   ]
  },
  {
   "cell_type": "code",
   "execution_count": 39,
   "metadata": {},
   "outputs": [
    {
     "name": "stdout",
     "output_type": "stream",
     "text": [
      "75\n",
      "150\n",
      "145\n"
     ]
    }
   ],
   "source": [
    "numbers = [12, 75, 150, 180, 145, 525, 50]\n",
    "for i in numbers:\n",
    "    if(i%5==0):\n",
    "        if(i>500):\n",
    "            break\n",
    "        if(i>150):\n",
    "            continue\n",
    "        print(i)"
   ]
  },
  {
   "cell_type": "markdown",
   "metadata": {},
   "source": [
    "Q26. What is a string? How can we declare string in Python?\n",
    "\n",
    "String is an array of characters .\n",
    "We declare string using single or double quotes \n",
    "\n",
    "string_name = \"Sagar\""
   ]
  },
  {
   "cell_type": "code",
   "execution_count": 1,
   "metadata": {},
   "outputs": [
    {
     "data": {
      "text/plain": [
       "'Sagar'"
      ]
     },
     "execution_count": 1,
     "metadata": {},
     "output_type": "execute_result"
    }
   ],
   "source": [
    "# Q27. How can we access the string using its index?\n",
    "string_name = \"Sagar Kishore Kumbhare\"\n",
    "\n",
    "string_name[0:5]"
   ]
  },
  {
   "cell_type": "code",
   "execution_count": 2,
   "metadata": {},
   "outputs": [
    {
     "data": {
      "text/plain": [
       "'iNeuron'"
      ]
     },
     "execution_count": 2,
     "metadata": {},
     "output_type": "execute_result"
    }
   ],
   "source": [
    "# Q28. Write a code to get the desired output of the following\n",
    "# ```\n",
    "# string = \"Big Data iNeuron\"\n",
    "# desired_output = \"iNeuron\"\n",
    "# ```\n",
    "\n",
    "string_var = \"Big Data iNeuron\"\n",
    "string_var[9:]"
   ]
  },
  {
   "cell_type": "code",
   "execution_count": 9,
   "metadata": {},
   "outputs": [
    {
     "data": {
      "text/plain": [
       "'norueNi'"
      ]
     },
     "execution_count": 9,
     "metadata": {},
     "output_type": "execute_result"
    }
   ],
   "source": [
    "# Q29. Write a code to get the desired output of the following\n",
    "# ```\n",
    "# string = \"Big Data iNeuron\"\n",
    "# desired_output = \"norueNi\"\n",
    "# ```\n",
    "\n",
    "string_var[15:8:-1]"
   ]
  },
  {
   "cell_type": "code",
   "execution_count": 14,
   "metadata": {},
   "outputs": [
    {
     "data": {
      "text/plain": [
       "'norueNi ataD giB'"
      ]
     },
     "execution_count": 14,
     "metadata": {},
     "output_type": "execute_result"
    }
   ],
   "source": [
    "#Q30. Resverse the string given in the above question.\n",
    "string_var[::-1]"
   ]
  },
  {
   "cell_type": "code",
   "execution_count": 2,
   "metadata": {},
   "outputs": [
    {
     "name": "stdout",
     "output_type": "stream",
     "text": [
      "sagar\n"
     ]
    },
    {
     "ename": "NameError",
     "evalue": "name 'string_to_del' is not defined",
     "output_type": "error",
     "traceback": [
      "\u001b[1;31m---------------------------------------------------------------------------\u001b[0m",
      "\u001b[1;31mNameError\u001b[0m                                 Traceback (most recent call last)",
      "\u001b[1;32m<ipython-input-2-2aed14cf34c2>\u001b[0m in \u001b[0;36m<module>\u001b[1;34m\u001b[0m\n\u001b[0;32m      3\u001b[0m \u001b[0mprint\u001b[0m\u001b[1;33m(\u001b[0m\u001b[0mstring_to_del\u001b[0m\u001b[1;33m)\u001b[0m\u001b[1;33m\u001b[0m\u001b[1;33m\u001b[0m\u001b[0m\n\u001b[0;32m      4\u001b[0m \u001b[1;32mdel\u001b[0m\u001b[1;33m(\u001b[0m\u001b[0mstring_to_del\u001b[0m\u001b[1;33m)\u001b[0m\u001b[1;33m\u001b[0m\u001b[1;33m\u001b[0m\u001b[0m\n\u001b[1;32m----> 5\u001b[1;33m \u001b[0mprint\u001b[0m\u001b[1;33m(\u001b[0m\u001b[0mstring_to_del\u001b[0m\u001b[1;33m)\u001b[0m\u001b[1;33m\u001b[0m\u001b[1;33m\u001b[0m\u001b[0m\n\u001b[0m",
      "\u001b[1;31mNameError\u001b[0m: name 'string_to_del' is not defined"
     ]
    }
   ],
   "source": [
    "# Q31. How can you delete entire string at once?\n",
    "string_to_del = \"sagar\"\n",
    "print(string_to_del)\n",
    "del(string_to_del)\n",
    "print(string_to_del)"
   ]
  },
  {
   "cell_type": "code",
   "execution_count": 20,
   "metadata": {},
   "outputs": [
    {
     "data": {
      "text/plain": [
       "\"Sagar's house\""
      ]
     },
     "execution_count": 20,
     "metadata": {},
     "output_type": "execute_result"
    }
   ],
   "source": [
    "#Q32. What is escape sequence?\n",
    "\n",
    "#Escape sequence is a way to use characters as a string who has special meaning to it orherwise.\n",
    "#we use escape character \\ before that special meaning defined character\n",
    "\n",
    "example = 'Sagar\\'s house'\n",
    "example"
   ]
  },
  {
   "cell_type": "code",
   "execution_count": 22,
   "metadata": {},
   "outputs": [
    {
     "name": "stdout",
     "output_type": "stream",
     "text": [
      "iNeuron's Big Data Course\n"
     ]
    }
   ],
   "source": [
    "# Q33. How can you print the below string?\n",
    "# ```\n",
    "# 'iNeuron's Big Data Course'\n",
    "# ```\n",
    "\n",
    "print('iNeuron\\'s Big Data Course')"
   ]
  },
  {
   "cell_type": "markdown",
   "metadata": {},
   "source": [
    "Q34. What is a list in Python?\n",
    "\n",
    "List in python is nothing but a collection of elements which can be non homogenious.\n"
   ]
  },
  {
   "cell_type": "code",
   "execution_count": 26,
   "metadata": {},
   "outputs": [
    {
     "name": "stdout",
     "output_type": "stream",
     "text": [
      "[1, 2, 3, 4, 5]\n"
     ]
    }
   ],
   "source": [
    "# Q35. How can you create a list in Python?\n",
    "\n",
    "# we can create list in python like this :\n",
    "    \n",
    "list_exp = [1,2,3,4,5]\n",
    "\n",
    "print(list_exp)"
   ]
  },
  {
   "cell_type": "markdown",
   "metadata": {},
   "source": [
    "Q36. How can we access the elements in a list?\n",
    "\n",
    "we can use indexing using square brackets like we did in strings"
   ]
  },
  {
   "cell_type": "code",
   "execution_count": 31,
   "metadata": {},
   "outputs": [
    {
     "data": {
      "text/plain": [
       "'iNeuron'"
      ]
     },
     "execution_count": 31,
     "metadata": {},
     "output_type": "execute_result"
    }
   ],
   "source": [
    "# Q37. Write a code to access the word \"iNeuron\" from the given list.\n",
    "# ```\n",
    "# lst = [1,2,3,\"Hi\",[45,54, \"iNeuron\"], \"Big Data\"]\n",
    "# ``` \n",
    "lst = [1,2,3,\"Hi\",[45,54, \"iNeuron\"], \"Big Data\"]\n",
    "lst[4][2]"
   ]
  },
  {
   "cell_type": "code",
   "execution_count": 34,
   "metadata": {},
   "outputs": [
    {
     "name": "stdout",
     "output_type": "stream",
     "text": [
      "1 2 3 4 5\n",
      "5\n"
     ]
    }
   ],
   "source": [
    "#Q38. Take a list as an input from the user and find the length of the list.\n",
    "\n",
    "lst = list(input().split(\" \"))\n",
    "print(len(lst))"
   ]
  },
  {
   "cell_type": "code",
   "execution_count": 36,
   "metadata": {},
   "outputs": [
    {
     "data": {
      "text/plain": [
       "['Welcome', 'to', 'Big', 'Data', 'course']"
      ]
     },
     "execution_count": 36,
     "metadata": {},
     "output_type": "execute_result"
    }
   ],
   "source": [
    "# Q39. Add the word \"Big\" in the 3rd index of the given list.\n",
    "# ```\n",
    "# lst = [\"Welcome\", \"to\", \"Data\", \"course\"]\n",
    "# ```\n",
    "\n",
    "lst = [\"Welcome\", \"to\", \"Data\", \"course\"]\n",
    "lst.insert(2,'Big')\n",
    "lst"
   ]
  },
  {
   "cell_type": "markdown",
   "metadata": {},
   "source": [
    "Q40. What is a tuple? How is it different from list?\n",
    "\n",
    "tuple is nothing but a collection of data . It's similar to list but it's ummutable  \n"
   ]
  },
  {
   "cell_type": "markdown",
   "metadata": {},
   "source": [
    "Q41. How can you create a tuple in Python?\n",
    "\n",
    "we can create tuple using ()"
   ]
  },
  {
   "cell_type": "markdown",
   "metadata": {},
   "source": [
    "Q42. Create a tuple and try to add your name in the tuple. Are you able to do it? \n",
    "\n",
    "Support your answer with reason.\n"
   ]
  },
  {
   "cell_type": "code",
   "execution_count": 42,
   "metadata": {},
   "outputs": [
    {
     "name": "stdout",
     "output_type": "stream",
     "text": [
      "(1, 2, 3, 4, 5)\n"
     ]
    },
    {
     "data": {
      "text/plain": [
       "(1, 2, 3, 4, 5, 'sagar')"
      ]
     },
     "execution_count": 42,
     "metadata": {},
     "output_type": "execute_result"
    }
   ],
   "source": [
    "'''\n",
    "set_exp = (1,2,3,4,5)\n",
    "set_exp.append('sagar')\n",
    "\n",
    "---------------------------------------------------------------------------\n",
    "AttributeError                            Traceback (most recent call last)\n",
    "<ipython-input-38-45255afe766a> in <module>\n",
    "      3 \n",
    "      4 set_exp = (1,2,3,4,5)\n",
    "----> 5 set_exp.append('sagar')\n",
    "\n",
    "AttributeError: 'tuple' object has no attribute 'append'\n",
    "    \n",
    "    \n",
    "No we cannot add an element into tuple directly as it is immutable\n",
    "what we can do is convert it into a list and add an element into it \n",
    "and then again convert(typecast) it into a tuple \n",
    "'''\n",
    "\n",
    "set_exp = (1,2,3,4,5)\n",
    "print(set_exp)\n",
    "set_exp = list(set_exp)\n",
    "set_exp.append('sagar')\n",
    "set_exp = tuple(set_exp)\n",
    "set_exp"
   ]
  },
  {
   "cell_type": "markdown",
   "metadata": {},
   "source": [
    "Q43. Can two tuple be appended. If yes, write a code for it. If not, why?\n",
    "Ans - Two tuples cannot be appended directly but we can do it by typecasting them into list."
   ]
  },
  {
   "cell_type": "code",
   "execution_count": 1,
   "metadata": {},
   "outputs": [
    {
     "name": "stdout",
     "output_type": "stream",
     "text": [
      "(1, 2, 3, 4, 5, 6)\n"
     ]
    }
   ],
   "source": [
    "tuple1 = (1,2,3)\n",
    "tuple2 = (4,5,6)\n",
    "\n",
    "tuple1 = list(tuple1)\n",
    "tuple2 = list(tuple2)\n",
    "tuple1.extend(tuple2)\n",
    "\n",
    "tuple1 = tuple(tuple1)\n",
    "print(tuple1)\n",
    "\n"
   ]
  },
  {
   "cell_type": "markdown",
   "metadata": {},
   "source": [
    "Q44. Take a tuple as an input and print the count of elements in it.\n"
   ]
  },
  {
   "cell_type": "code",
   "execution_count": 6,
   "metadata": {},
   "outputs": [
    {
     "name": "stdout",
     "output_type": "stream",
     "text": [
      "1 2 3 4 5\n"
     ]
    },
    {
     "data": {
      "text/plain": [
       "5"
      ]
     },
     "execution_count": 6,
     "metadata": {},
     "output_type": "execute_result"
    }
   ],
   "source": [
    "tuple_input = tuple(input().split(\" \"))\n",
    "len(tuple_input)"
   ]
  },
  {
   "cell_type": "markdown",
   "metadata": {},
   "source": [
    "Q45. What are sets in Python?\n",
    "\n",
    "It's a collection of unordered data . \n",
    "Meaning it does not store indexes and it also stores unique values\n",
    "\n"
   ]
  },
  {
   "cell_type": "markdown",
   "metadata": {},
   "source": [
    "Q46. How can you create a set?"
   ]
  },
  {
   "cell_type": "code",
   "execution_count": 6,
   "metadata": {},
   "outputs": [
    {
     "name": "stdout",
     "output_type": "stream",
     "text": [
      "{1, 2, 3, 4, 5}\n",
      "{1, 2, 3, 4, 5}\n",
      "<class 'set'>\n",
      "<class 'set'>\n"
     ]
    }
   ],
   "source": [
    "set_1 = set([1,2,3,4,5])\n",
    "print(set_1)\n",
    "\n",
    "set_2 = {1,2,3,4,5}\n",
    "print(set_2)\n"
   ]
  },
  {
   "cell_type": "markdown",
   "metadata": {},
   "source": [
    "Q47. Create a set and add \"iNeuron\" in your set."
   ]
  },
  {
   "cell_type": "code",
   "execution_count": 12,
   "metadata": {},
   "outputs": [
    {
     "data": {
      "text/plain": [
       "{'iNeuron'}"
      ]
     },
     "execution_count": 12,
     "metadata": {},
     "output_type": "execute_result"
    }
   ],
   "source": [
    "set_1 =set()\n",
    "\n",
    "set_1.add('iNeuron')\n",
    "set_1"
   ]
  },
  {
   "cell_type": "markdown",
   "metadata": {},
   "source": [
    "Q48. Try to add multiple values using add() function.\n"
   ]
  },
  {
   "cell_type": "code",
   "execution_count": 18,
   "metadata": {},
   "outputs": [
    {
     "name": "stdout",
     "output_type": "stream",
     "text": [
      "{'iNeuron', 1, 2, 3, 4}\n"
     ]
    }
   ],
   "source": [
    "set_1.add(1)\n",
    "set_1.add(2)\n",
    "set_1.add(3)\n",
    "set_1.add(4)\n",
    "print(set_1)"
   ]
  },
  {
   "cell_type": "markdown",
   "metadata": {},
   "source": [
    "Q49. How is update() different from add()?"
   ]
  },
  {
   "cell_type": "code",
   "execution_count": 24,
   "metadata": {},
   "outputs": [
    {
     "name": "stdout",
     "output_type": "stream",
     "text": [
      "{'iNeuron', 1, 2, 3, 4, 5, 6, 7, 8}\n"
     ]
    }
   ],
   "source": [
    "# Using update we can add multiple elements inside the set unlike add where \n",
    "# we were adding elements one by one\n",
    "\n",
    "set_1.update((5,6,7,8))\n",
    "print(set_1)\n"
   ]
  },
  {
   "cell_type": "markdown",
   "metadata": {},
   "source": [
    "Q50. What is clear() in sets?\n",
    "cleat in set is used to clear all elements from the set\n"
   ]
  },
  {
   "cell_type": "code",
   "execution_count": 25,
   "metadata": {},
   "outputs": [
    {
     "name": "stdout",
     "output_type": "stream",
     "text": [
      "{1, 2, 3, 4, 5}\n",
      "set()\n"
     ]
    }
   ],
   "source": [
    "print(set_2)\n",
    "set_2.clear()\n",
    "print(set_2)"
   ]
  },
  {
   "cell_type": "markdown",
   "metadata": {},
   "source": [
    "Q51. What is frozen set?\n",
    "\n",
    "frozen set is similar to a set in python its just that once we make a set frozen it becomes immutable"
   ]
  },
  {
   "cell_type": "markdown",
   "metadata": {},
   "source": [
    "Q52. How is frozen set different from set?\n",
    "\n",
    "frozen set is similar to a set in python its just that once we make a set frozen it becomes immutable\n",
    "\n",
    "Frozen sets can be used a keys in dictionary unlike regular sets in python"
   ]
  },
  {
   "cell_type": "markdown",
   "metadata": {},
   "source": [
    "Q53. What is union() in sets? Explain via code.\n",
    "\n",
    "Union operation is similar to union we studied in high school math that is to add all elements inside one collection."
   ]
  },
  {
   "cell_type": "code",
   "execution_count": 28,
   "metadata": {},
   "outputs": [
    {
     "name": "stdout",
     "output_type": "stream",
     "text": [
      "{1, 2, 4, 5, 6, 7, 8, 9}\n"
     ]
    }
   ],
   "source": [
    "set_1 = {1,2,4,5,6}\n",
    "set_2 = {5,6,7,8,9}\n",
    "\n",
    "set_3 = set_1.union(set_2)\n",
    "print(set_3)"
   ]
  },
  {
   "cell_type": "markdown",
   "metadata": {},
   "source": [
    "Q54. What is intersection() in sets? Explain via code.\n",
    "\n",
    "the common elements between two sets is called intersection"
   ]
  },
  {
   "cell_type": "code",
   "execution_count": 29,
   "metadata": {},
   "outputs": [
    {
     "name": "stdout",
     "output_type": "stream",
     "text": [
      "{5, 6}\n"
     ]
    }
   ],
   "source": [
    "set_4 = set_1.intersection(set_2)\n",
    "print(set_4)"
   ]
  },
  {
   "cell_type": "markdown",
   "metadata": {},
   "source": [
    "Q55. What is dictionary in Python?\n",
    "\n",
    "A dictionary in python is a data strudture that stores key value pair "
   ]
  },
  {
   "cell_type": "markdown",
   "metadata": {},
   "source": [
    "Q56. How is dictionary different from all other data structures.\n",
    "\n",
    "As dictionary stores key value pairs it has keys and values associated with it .\n",
    "unlike list set or tuples which only contains values inside them"
   ]
  },
  {
   "cell_type": "markdown",
   "metadata": {},
   "source": [
    "Q57. How can we delare a dictionary in Python?\n",
    "\n",
    "We can delare a dictionary using the dict keyword and using \" {} \"\n",
    "\n",
    "dictionary_1 = {}\n",
    "dictionary_2 = dict()"
   ]
  },
  {
   "cell_type": "markdown",
   "metadata": {},
   "source": [
    "Q58. What will the output of the following?\n",
    "```\n",
    "var = {}\n",
    "print(type(var))\n",
    "```"
   ]
  },
  {
   "cell_type": "code",
   "execution_count": 30,
   "metadata": {},
   "outputs": [
    {
     "name": "stdout",
     "output_type": "stream",
     "text": [
      "<class 'dict'>\n"
     ]
    }
   ],
   "source": [
    "var = {}\n",
    "print(type(var))"
   ]
  },
  {
   "cell_type": "markdown",
   "metadata": {},
   "source": [
    "Q59. How can we add an element in a dictionary?"
   ]
  },
  {
   "cell_type": "code",
   "execution_count": 31,
   "metadata": {},
   "outputs": [
    {
     "name": "stdout",
     "output_type": "stream",
     "text": [
      "{'key_1': 'value_1'}\n"
     ]
    }
   ],
   "source": [
    "var['key_1'] = \"value_1\"\n",
    "print(var)"
   ]
  },
  {
   "cell_type": "markdown",
   "metadata": {},
   "source": [
    "Q60. Create a dictionary and access all the values in that dictionary."
   ]
  },
  {
   "cell_type": "code",
   "execution_count": 34,
   "metadata": {},
   "outputs": [
    {
     "name": "stdout",
     "output_type": "stream",
     "text": [
      "dict_items([(1, 'Hi'), (2, 'Hellow'), (3, 'Ayoo'), (4, \"What's up\")])\n"
     ]
    }
   ],
   "source": [
    "dict_1 = {1:\"Hi\",2:\"Hellow\",3:\"Ayoo\",4:\"What's up\"}\n",
    "\n",
    "print(dict_1.items())"
   ]
  },
  {
   "cell_type": "markdown",
   "metadata": {},
   "source": [
    "Q61. Create a nested dictionary and access all the element in the inner dictionary."
   ]
  },
  {
   "cell_type": "code",
   "execution_count": 20,
   "metadata": {},
   "outputs": [
    {
     "name": "stdout",
     "output_type": "stream",
     "text": [
      "skill_1 Python\n",
      "skill_2 Machine Learning\n",
      "skill_3 Deep Learning\n",
      "skill_4 Big Data\n",
      "skill_5 Data analytics\n"
     ]
    }
   ],
   "source": [
    "dict_var ={\n",
    "    \"name\":\"Sagar\",\n",
    "    \"age\":27,\n",
    "    \"skills\":{\n",
    "                \"skill_1\":\"Python\",\n",
    "                \"skill_2\":\"Machine Learning\",\n",
    "                \"skill_3\":\"Deep Learning\",\n",
    "                \"skill_4\":\"Big Data\",\n",
    "                \"skill_5\":\"Data analytics\"\n",
    "             }\n",
    "}\n",
    "for i,j in dict_var['skills'].items():\n",
    "    print(i,j)\n",
    "    "
   ]
  },
  {
   "cell_type": "markdown",
   "metadata": {},
   "source": [
    "Q62. What is the use of get() function?\n",
    "its a function used to get the value inside of the dictionary"
   ]
  },
  {
   "cell_type": "code",
   "execution_count": 5,
   "metadata": {},
   "outputs": [
    {
     "data": {
      "text/plain": [
       "{'skill_1': 'Python',\n",
       " 'skill_2': 'Machine Learning',\n",
       " 'skill_3': 'Deep Learning',\n",
       " 'skill_4': 'Big Data',\n",
       " 'skill_5': 'Data analytics'}"
      ]
     },
     "execution_count": 5,
     "metadata": {},
     "output_type": "execute_result"
    }
   ],
   "source": [
    "dict_var.get('skills')"
   ]
  },
  {
   "cell_type": "markdown",
   "metadata": {},
   "source": [
    "Q63. What is the use of items() function?\n",
    "\n",
    "THis is used to get the key value pair from a dictionary."
   ]
  },
  {
   "cell_type": "markdown",
   "metadata": {},
   "source": [
    "Q64. What is the use of pop() function?\n",
    "\n",
    "It is used to get the top most value out of a list.\n",
    "While in dictionary it can be used to get the value of a key .\n"
   ]
  },
  {
   "cell_type": "code",
   "execution_count": 16,
   "metadata": {},
   "outputs": [
    {
     "data": {
      "text/plain": [
       "{'skill_1': 'Python',\n",
       " 'skill_2': 'Machine Learning',\n",
       " 'skill_3': 'Deep Learning',\n",
       " 'skill_4': 'Big Data',\n",
       " 'skill_5': 'Data analytics'}"
      ]
     },
     "execution_count": 16,
     "metadata": {},
     "output_type": "execute_result"
    }
   ],
   "source": [
    "dict_var.pop('skills')"
   ]
  },
  {
   "cell_type": "markdown",
   "metadata": {},
   "source": [
    "Q65. What is the use of popitems() function?"
   ]
  },
  {
   "cell_type": "code",
   "execution_count": 17,
   "metadata": {},
   "outputs": [
    {
     "data": {
      "text/plain": [
       "('age', 27)"
      ]
     },
     "execution_count": 17,
     "metadata": {},
     "output_type": "execute_result"
    }
   ],
   "source": [
    "dict_var.popitem()"
   ]
  },
  {
   "cell_type": "markdown",
   "metadata": {},
   "source": [
    "Q66. What is the use of keys() function?\n",
    "\n",
    "to get all the keys of the dictionary"
   ]
  },
  {
   "cell_type": "code",
   "execution_count": 21,
   "metadata": {},
   "outputs": [
    {
     "data": {
      "text/plain": [
       "dict_keys(['name', 'age', 'skills'])"
      ]
     },
     "execution_count": 21,
     "metadata": {},
     "output_type": "execute_result"
    }
   ],
   "source": [
    "dict_var.keys()"
   ]
  },
  {
   "cell_type": "markdown",
   "metadata": {},
   "source": [
    "Q67. What is the use of values() function?\n",
    "\n",
    "to get all the values associated with the keys"
   ]
  },
  {
   "cell_type": "code",
   "execution_count": 22,
   "metadata": {},
   "outputs": [
    {
     "data": {
      "text/plain": [
       "dict_values(['Sagar', 27, {'skill_1': 'Python', 'skill_2': 'Machine Learning', 'skill_3': 'Deep Learning', 'skill_4': 'Big Data', 'skill_5': 'Data analytics'}])"
      ]
     },
     "execution_count": 22,
     "metadata": {},
     "output_type": "execute_result"
    }
   ],
   "source": [
    "dict_var.values()"
   ]
  },
  {
   "cell_type": "markdown",
   "metadata": {},
   "source": [
    "Q68. What are loops in Python?\n",
    "\n",
    "loops are used to itterate over statements multiple times\n",
    "\n"
   ]
  },
  {
   "cell_type": "markdown",
   "metadata": {},
   "source": [
    "Q69. How many type of loop are there in Python?\n",
    "\n",
    "two types of loopes for loop and while loop\n"
   ]
  },
  {
   "cell_type": "markdown",
   "metadata": {},
   "source": [
    "Q70. What is the difference between for and while loops?\n",
    "\n",
    "in for loop we specify the range over which we have to iterate or elements\n",
    "through which we have to go through. The index is incrememted automatically\n",
    "\n",
    "in while loop we iterate will the condition is true .\n",
    "we have the keep incrementing the indexes by our selfs"
   ]
  },
  {
   "cell_type": "markdown",
   "metadata": {},
   "source": [
    "Q71. What is the use of continue statement?\n",
    "\n",
    "When we want to do nothing for that perticular iteration in a loop we use continue.\n",
    "statements inside the loop are skipped and next itteration starts."
   ]
  },
  {
   "cell_type": "markdown",
   "metadata": {},
   "source": [
    "Q72. What is the use of break statement?\n",
    "\n",
    "WHen we want to terminate the loop over certain condition we use break statement."
   ]
  },
  {
   "cell_type": "markdown",
   "metadata": {},
   "source": [
    "Q73. What is the use of pass statement?\n",
    "\n",
    "the pass statement is used to temperoraly run to code where we can type our main code or logic later ."
   ]
  },
  {
   "cell_type": "markdown",
   "metadata": {},
   "source": [
    "Q74. What is the use of range() function?\n",
    "\n",
    "this function creates a list of numbers to interate over"
   ]
  },
  {
   "cell_type": "markdown",
   "metadata": {},
   "source": [
    "Q75. How can you loop over a dictionary?\n",
    "\n",
    "we can loop overs a dictionary using for loop and items method of dict class"
   ]
  },
  {
   "cell_type": "code",
   "execution_count": 26,
   "metadata": {},
   "outputs": [
    {
     "name": "stdout",
     "output_type": "stream",
     "text": [
      "key : name value : Sagar\n",
      "key : age value : 27\n",
      "key : skills value : {'skill_1': 'Python', 'skill_2': 'Machine Learning', 'skill_3': 'Deep Learning', 'skill_4': 'Big Data', 'skill_5': 'Data analytics'}\n"
     ]
    }
   ],
   "source": [
    "for k,v in dict_var.items():\n",
    "\tprint(\"key :\",k,\"value :\",v)"
   ]
  },
  {
   "cell_type": "code",
   "execution_count": 28,
   "metadata": {},
   "outputs": [
    {
     "name": "stdout",
     "output_type": "stream",
     "text": [
      "Enter the number to find factorial of 5\n",
      "120\n"
     ]
    }
   ],
   "source": [
    "#Q76. Write a Python program to find the factorial of a given number.\n",
    "num = int(input(\"Enter the number to find factorial of \"))\n",
    "fact=1\n",
    "for i in range(2,num+1):\n",
    "    fact = fact*i\n",
    "print(fact)\n"
   ]
  },
  {
   "cell_type": "code",
   "execution_count": 32,
   "metadata": {},
   "outputs": [
    {
     "name": "stdout",
     "output_type": "stream",
     "text": [
      "enter the principle amount10000\n",
      "enter ratae of interest10\n",
      "enter the time period5\n",
      "simple interest is  5000.0\n"
     ]
    }
   ],
   "source": [
    "#Q77. Write a Python program to calculate the simple interest. Formula to calculate simple interest is SI = (P*R*T)/100\n",
    "P = int(input(\"enter the principle amount\"))\n",
    "R = int(input(\"enter ratae of interest\"))\n",
    "T = int(input(\"enter the time period\"))\n",
    "SI = (P*R*T)/100\n",
    "print(\"simple interest is \",SI)\n"
   ]
  },
  {
   "cell_type": "code",
   "execution_count": 39,
   "metadata": {},
   "outputs": [
    {
     "name": "stdout",
     "output_type": "stream",
     "text": [
      "enter the principle amount 10\n",
      "enter ratae of interest 5\n",
      "enter the time period 5\n",
      "compound interest is  12.762815625000004\n"
     ]
    }
   ],
   "source": [
    "#Q78. Write a Python program to calculate the compound interest. Formula of compound interest is A = P(1+ R/100)^t.\n",
    "P = int(input(\"enter the principle amount \"))\n",
    "R = int(input(\"enter ratae of interest \"))\n",
    "t = int(input(\"enter the time period \"))\n",
    "CI = P*(1+ (R/100))**t\n",
    "print(\"compound interest is \",CI)"
   ]
  },
  {
   "cell_type": "code",
   "execution_count": 47,
   "metadata": {},
   "outputs": [
    {
     "name": "stdout",
     "output_type": "stream",
     "text": [
      "enter the number to check if its prime or not 17\n",
      "Prime\n"
     ]
    }
   ],
   "source": [
    "#Q79. Write a Python program to check if a number is prime or not.\n",
    "num = int(input(\"enter the number to check if its prime or not \"))\n",
    "flag = 0\n",
    "for i in range(2,num):\n",
    "    if(num%i == 0):\n",
    "        flag = 1\n",
    "if(flag == 0):\n",
    "    print(\"Prime\")\n",
    "else:\n",
    "    print(\"Non - Prime\")"
   ]
  },
  {
   "cell_type": "code",
   "execution_count": 61,
   "metadata": {},
   "outputs": [
    {
     "name": "stdout",
     "output_type": "stream",
     "text": [
      "enter the number 123\n",
      "the entered number is not an armstrong number\n"
     ]
    }
   ],
   "source": [
    "#Q80. Write a Python program to check Armstrong Number.\n",
    "num = input(\"enter the number \")\n",
    "num_list = [int(j) for j in num]\n",
    "\n",
    "cube_sum = 0\n",
    "for i in num_list:\n",
    "    cube_sum+=i**3\n",
    "if(int(num) == cube_sum):\n",
    "    print(\"the entered number is an armstrong number\")\n",
    "else:\n",
    "    print(\"the entered number is not an armstrong number\")"
   ]
  },
  {
   "cell_type": "code",
   "execution_count": 104,
   "metadata": {},
   "outputs": [
    {
     "name": "stdout",
     "output_type": "stream",
     "text": [
      "enter the n-th index you want the n-th fibonacci number of 5\n",
      "[0, 1, 1, 2, 3]\n",
      "n-th Fibonacci Number is 3\n"
     ]
    }
   ],
   "source": [
    "#Q81. Write a Python program to find the n-th Fibonacci Number.\n",
    "\n",
    "number = int(input('enter the n-th index you want the n-th fibonacci number of '))\n",
    "i=0\n",
    "flag = 0\n",
    "if(number == 1):\n",
    "    print(\"n-th Fibonacci Number is 0\")\n",
    "    flag = 1\n",
    "if(number == 2):\n",
    "    print(\"n-th Fibonacci Number is 1\")\n",
    "    flag = 1\n",
    "if(number == 3):\n",
    "    print(\"n-th Fibonacci Number is 1\")\n",
    "    flag = 1\n",
    "    \n",
    "fibonacci = [0,1,1]\n",
    "for i in range(3,number):\n",
    "    fibonacci.append(fibonacci[i-1]+fibonacci[i-2])\n",
    "    \n",
    "if(flag!=1):\n",
    "    print(\"n-th Fibonacci Number is\",fibonacci[-1])"
   ]
  },
  {
   "cell_type": "code",
   "execution_count": 111,
   "metadata": {},
   "outputs": [
    {
     "name": "stdout",
     "output_type": "stream",
     "text": [
      "[1, 2, 3, 4, 5]\n",
      "[5, 2, 3, 4, 1]\n",
      "[1, 2, 3, 4, 5]\n"
     ]
    }
   ],
   "source": [
    "#Q82. Write a Python program to interchange the first and last element in a list.\n",
    "list_var = [1,2,3,4,5]\n",
    "print(list_var)\n",
    "\n",
    "#swap without using third variable\n",
    "list_var[0] = list_var[0]+list_var[-1]\n",
    "list_var[-1] = list_var[0]-list_var[-1]\n",
    "list_var[0] = list_var[0]-list_var[-1]\n",
    "print(list_var)\n",
    "\n",
    "#or  pythonic code\n",
    "\n",
    "list_var[0],list_var[-1] = list_var[-1],list_var[0]\n",
    "print(list_var)\n",
    "\n"
   ]
  },
  {
   "cell_type": "code",
   "execution_count": 6,
   "metadata": {},
   "outputs": [
    {
     "name": "stdout",
     "output_type": "stream",
     "text": [
      "[1, 2, 3, 4, 5]\n",
      "enter indices of lists to swap elements 'space seperated' 0 -1\n",
      "[5, 2, 3, 4, 1]\n"
     ]
    }
   ],
   "source": [
    "#Q83. Write a Python program to swap two elements in a list.\n",
    "list_var = [1,2,3,4,5]\n",
    "print(list_var)\n",
    "a,b = map(int,input(\"enter indices of lists to swap elements 'space seperated' \").split(\" \"))\n",
    "list_var[a] = list_var[a]+list_var[b]\n",
    "list_var[b] = list_var[a]-list_var[b]\n",
    "list_var[a] = list_var[a]-list_var[b]\n",
    "\n",
    "print(list_var)"
   ]
  },
  {
   "cell_type": "code",
   "execution_count": 11,
   "metadata": {},
   "outputs": [
    {
     "name": "stdout",
     "output_type": "stream",
     "text": [
      "enter the number of elements that you wnat to find which are the largest5\n",
      "[0, 0, 0, 0, 0]\n"
     ]
    }
   ],
   "source": [
    "#Q84. Write a Python program to find N largest element from a list.\n",
    "given_list = [1,2,4,32,1,23,2,5,547,8,3,4,25,234,99,4,23,4,6,23424,634,2]\n",
    "N = int(input(\"enter the number of elements that you want to find which are the largest\"))\n",
    "n_largest = [-999]*N\n",
    "print(n_largest)\n",
    "\n",
    "for i in given_list:\n",
    "    if(i>min(n_largest)):\n",
    "         "
   ]
  },
  {
   "cell_type": "code",
   "execution_count": 4,
   "metadata": {},
   "outputs": [
    {
     "name": "stdout",
     "output_type": "stream",
     "text": [
      "upto where you want your cumulative sum 4\n",
      "Cumulative sum is  39\n"
     ]
    }
   ],
   "source": [
    "#Q85. Write a Python program to find cumulative sum of a list.\n",
    "given_list = [1,2,4,32,1,23,2,5,547,8,3,4,25,234,99,4,23,4,6,23424,634,2]\n",
    "till_var = int(input(\"upto where you want your cumulative sum \"))\n",
    "cumulative_sum = 0\n",
    "for i in range(till_var):\n",
    "    cumulative_sum+=given_list[i] \n",
    "print(\"Cumulative sum is \",cumulative_sum)\n"
   ]
  },
  {
   "cell_type": "code",
   "execution_count": 15,
   "metadata": {},
   "outputs": [
    {
     "name": "stdout",
     "output_type": "stream",
     "text": [
      "The string is palindrome\n"
     ]
    }
   ],
   "source": [
    "#Q86. Write a Python program to check if a string is palindrome or not.\n",
    "string_v = \"TremerT\"\n",
    "def palindrome(str_var):\n",
    "    if(str_var == str_var[::-1]):\n",
    "        print(\"The string is palindrome\")\n",
    "    else:\n",
    "        print(\"The string is not a palindrome\")\n",
    "palindrome(string_v)\n",
    "    \n"
   ]
  },
  {
   "cell_type": "code",
   "execution_count": 18,
   "metadata": {},
   "outputs": [
    {
     "name": "stdout",
     "output_type": "stream",
     "text": [
      "which element to remove2\n",
      "sgar\n"
     ]
    }
   ],
   "source": [
    "#Q87. Write a Python program to remove i'th element from a string.\n",
    "\n",
    "string_var = \"sagar\"\n",
    "i = int(input(\"which element to remove\"))\n",
    "new_string = string_var[:i-1]+string_var[i:]\n",
    "print(new_string)"
   ]
  },
  {
   "cell_type": "code",
   "execution_count": 19,
   "metadata": {},
   "outputs": [
    {
     "name": "stdout",
     "output_type": "stream",
     "text": [
      "Yes\n"
     ]
    }
   ],
   "source": [
    "#Q88. Write a Python program to check if a sub string is present in a given string.\n",
    "\n",
    "string_var = \"Today's day is so good \"\n",
    "sub_str = \" day\"\n",
    "\n",
    "def sub_str_in_str(string_var,sub_str_var):\n",
    "    if(sub_str_var in string_var):\n",
    "        print(\"Yes\")\n",
    "    else:\n",
    "        print(\"No\")\n",
    "sub_str_in_str(string_var,sub_str)"
   ]
  },
  {
   "cell_type": "code",
   "execution_count": 22,
   "metadata": {},
   "outputs": [
    {
     "name": "stdout",
     "output_type": "stream",
     "text": [
      "enter the k var : 6\n",
      "kumbhare\n",
      "california\n",
      "ineuron\n"
     ]
    }
   ],
   "source": [
    "#Q89. Write a Python program to find words which are greater than given length k.\n",
    "\n",
    "word_list = [\"sagar\",\"kisore\",'kumbhare','california',\"texas\",\"ineuron\"]\n",
    "k = int(input(\"enter the k var : \"))\n",
    "for i in word_list:\n",
    "    if(len(i)>k):\n",
    "        print(i)"
   ]
  },
  {
   "cell_type": "code",
   "execution_count": 35,
   "metadata": {},
   "outputs": [
    {
     "name": "stdout",
     "output_type": "stream",
     "text": [
      "The original dictionary is :  {'A': [1, 3, 5, 4], 'B': [4, 6, 8, 10], 'C': [6, 12, 4, 8], 'D': [5, 7, 2]}\n",
      "unique dictionary values  {1, 2, 3, 4, 5, 6, 7, 8, 10, 12}\n"
     ]
    }
   ],
   "source": [
    "#Q90. Write a Python program to extract unique dictionary values.\n",
    "\n",
    "dict1 = {'A' : [1, 3, 5, 4],\n",
    "             'B' : [4, 6, 8, 10],\n",
    "             'C' : [6, 12, 4 ,8],\n",
    "             'D' : [5, 7, 2]}\n",
    "\n",
    "print(\"The original dictionary is : \" ,dict1)\n",
    "\n",
    "list1 = []\n",
    "for i in dict1.values():\n",
    "    list1.extend(i)\n",
    "print(\"unique dictionary values \",set(list1))\n"
   ]
  },
  {
   "cell_type": "code",
   "execution_count": 37,
   "metadata": {},
   "outputs": [
    {
     "name": "stdout",
     "output_type": "stream",
     "text": [
      "{'A': [1, 3, 5, 4], 'B': [4, 6, 8, 10], 'C': [6, 12, 4, 8], 'D': [5, 7, 2], 'E': [1, 3, 5, 4], 'F': [4, 6, 8, 10], 'G': [6, 12, 4, 8], 'H': [5, 7, 2]}\n"
     ]
    }
   ],
   "source": [
    "#Q91. Write a Python program to merge two dictionary.\n",
    "dict1 = {'A' : [1, 3, 5, 4],\n",
    "             'B' : [4, 6, 8, 10],\n",
    "             'C' : [6, 12, 4 ,8],\n",
    "             'D' : [5, 7, 2]}\n",
    "\n",
    "dict2 = {'E' : [1, 3, 5, 4],\n",
    "             'F' : [4, 6, 8, 10],\n",
    "             'G' : [6, 12, 4 ,8],\n",
    "             'H' : [5, 7, 2]}\n",
    "\n",
    "dict1.update(dict2)\n",
    "print(dict1)"
   ]
  },
  {
   "cell_type": "markdown",
   "metadata": {},
   "source": [
    "Q92. Write a Python program to convert a list of tuples into dictionary.\n",
    "```\n",
    "Input : [('Sachin', 10), ('MSD', 7), ('Kohli', 18), ('Rohit', 45)]\n",
    "Output : {'Sachin': 10, 'MSD': 7, 'Kohli': 18, 'Rohit': 45}\n",
    "```\n"
   ]
  },
  {
   "cell_type": "code",
   "execution_count": 43,
   "metadata": {},
   "outputs": [
    {
     "name": "stdout",
     "output_type": "stream",
     "text": [
      "{'Sachin': 10, 'MSD': 7, 'Kohli': 18, 'Rohit': 45}\n"
     ]
    }
   ],
   "source": [
    "list_of_t = [('Sachin', 10), ('MSD', 7), ('Kohli', 18), ('Rohit', 45)]\n",
    "dict_var = dict()\n",
    "for i in list_of_t:\n",
    "    dict_var[i[0]] = i[1]\n",
    "print(dict_var)"
   ]
  },
  {
   "cell_type": "markdown",
   "metadata": {},
   "source": [
    "Q93. Write a Python program to create a list of tuples from given list having number and its cube in each tuple.\n",
    "```\n",
    "Input: list = [9, 5, 6]\n",
    "Output: [(9, 729), (5, 125), (6, 216)]\n",
    "```"
   ]
  },
  {
   "cell_type": "code",
   "execution_count": 50,
   "metadata": {},
   "outputs": [
    {
     "name": "stdout",
     "output_type": "stream",
     "text": [
      "[(9, 729), (5, 125), (6, 216)]\n"
     ]
    }
   ],
   "source": [
    "list_var = [9, 5, 6]\n",
    "for i in range(len(list_var)):\n",
    "    list_var[i] = tuple((list_var[i],list_var[i]**3))\n",
    "print(list_var)"
   ]
  },
  {
   "cell_type": "markdown",
   "metadata": {},
   "source": [
    "Q94. Write a Python program to get all combinations of 2 tuples.\n",
    "```\n",
    "Input : test_tuple1 = (7, 2), test_tuple2 = (7, 8)\n",
    "Output : [(7, 7), (7, 8), (2, 7), (2, 8), (7, 7), (7, 2), (8, 7), (8, 2)]\n",
    "```\n"
   ]
  },
  {
   "cell_type": "code",
   "execution_count": 59,
   "metadata": {},
   "outputs": [
    {
     "name": "stdout",
     "output_type": "stream",
     "text": [
      "[(7, 7), (7, 8), (2, 7), (2, 8), (7, 2), (8, 7), (8, 2)]\n"
     ]
    }
   ],
   "source": [
    "test_tuple1 = (7, 2)\n",
    "test_tuple2 = (7, 8)\n",
    "list1 = []\n",
    "for i in test_tuple1:\n",
    "    for j in test_tuple2:\n",
    "        if(tuple((i,j)) not in list1):\n",
    "            list1.append(tuple((i,j)))\n",
    "            \n",
    "for i in test_tuple2:\n",
    "    for j in test_tuple1:\n",
    "        if(tuple((i,j)) not in list1):\n",
    "            list1.append(tuple((i,j)))\n",
    "\n",
    "print(list1)"
   ]
  },
  {
   "cell_type": "markdown",
   "metadata": {},
   "source": [
    "Q95. Write a Python program to sort a list of tuples by second item.\n",
    "```\n",
    "Input : [('for', 24), ('Geeks', 8), ('Geeks', 30)] \n",
    "Output : [('Geeks', 8), ('for', 24), ('Geeks', 30)]\n",
    "```"
   ]
  },
  {
   "cell_type": "code",
   "execution_count": 77,
   "metadata": {},
   "outputs": [
    {
     "name": "stdout",
     "output_type": "stream",
     "text": [
      "[('Geeks', 8), ('for', 24), ('Geeks', 30), ('and', 32), ('pros', 35), ('lmao', 39)]\n"
     ]
    }
   ],
   "source": [
    "list_of_tuple = [('for', 24),  ('lmao', 39),('Geeks', 8),('and', 32), ('pros',35 ), ('Geeks', 30)] \n",
    "\n",
    "for i in range(len(list_of_tuple)):\n",
    "    for j in range(i,len(list_of_tuple)):\n",
    "        if(list_of_tuple[i][1]>list_of_tuple[j][1]):\n",
    "            list_of_tuple[i],list_of_tuple[j] = list_of_tuple[j],list_of_tuple[i]\n",
    "print(list_of_tuple)\n",
    "    \n"
   ]
  },
  {
   "cell_type": "markdown",
   "metadata": {},
   "source": [
    "Q96. Write a python program to print below pattern.\n",
    "```\n",
    "* \n",
    "* * \n",
    "* * * \n",
    "* * * * \n",
    "* * * * * \n",
    "```"
   ]
  },
  {
   "cell_type": "code",
   "execution_count": 81,
   "metadata": {},
   "outputs": [
    {
     "name": "stdout",
     "output_type": "stream",
     "text": [
      "* \n",
      "* * \n",
      "* * * \n",
      "* * * * \n",
      "* * * * * \n"
     ]
    }
   ],
   "source": [
    "char_astrik = \"* \"\n",
    "count = 1\n",
    "for i in range(5):\n",
    "    print(char_astrik*count)\n",
    "    count+=1"
   ]
  },
  {
   "cell_type": "markdown",
   "metadata": {},
   "source": [
    "Q97. Write a python program to print below pattern.\n",
    "```\n",
    "    *\n",
    "   **\n",
    "  ***\n",
    " ****\n",
    "*****\n",
    "```"
   ]
  },
  {
   "cell_type": "code",
   "execution_count": 120,
   "metadata": {},
   "outputs": [
    {
     "name": "stdout",
     "output_type": "stream",
     "text": [
      "          * \n",
      "        * * \n",
      "      * * * \n",
      "    * * * * \n",
      "  * * * * * \n"
     ]
    }
   ],
   "source": [
    "rows = 6\n",
    "for i in range(1, rows):\n",
    "    for j in range(rows, 0, -1):\n",
    "        if j > i:\n",
    "            print(\" \", end=' ')\n",
    "        else:\n",
    "            print('*', end=' ')\n",
    "    print(\"\")"
   ]
  },
  {
   "cell_type": "markdown",
   "metadata": {},
   "source": [
    "Q98. Write a python program to print below pattern.\n",
    "```\n",
    "    * \n",
    "   * * \n",
    "  * * * \n",
    " * * * * \n",
    "* * * * * \n",
    "```"
   ]
  },
  {
   "cell_type": "code",
   "execution_count": 123,
   "metadata": {},
   "outputs": [
    {
     "name": "stdout",
     "output_type": "stream",
     "text": [
      "           *  \n",
      "         *   *  \n",
      "       *   *   *  \n",
      "     *   *   *   *  \n",
      "   *   *   *   *   *  \n"
     ]
    }
   ],
   "source": [
    "rows = 6\n",
    "for i in range(1, rows):\n",
    "    for j in range(rows, 0, -1):\n",
    "        if j > i:\n",
    "            print(\" \", end=' ')\n",
    "        else:\n",
    "            print(' * ', end=' ')\n",
    "    print(\"\")"
   ]
  },
  {
   "cell_type": "markdown",
   "metadata": {},
   "source": [
    "Q99. Write a python program to print below pattern.\n",
    "```\n",
    "1 \n",
    "1 2 \n",
    "1 2 3 \n",
    "1 2 3 4 \n",
    "1 2 3 4 5\n",
    "```"
   ]
  },
  {
   "cell_type": "code",
   "execution_count": 96,
   "metadata": {},
   "outputs": [
    {
     "name": "stdout",
     "output_type": "stream",
     "text": [
      "1\n",
      "1 2\n",
      "1 2 3\n",
      "1 2 3 4\n",
      "1 2 3 4 5\n"
     ]
    }
   ],
   "source": [
    "list_var = []\n",
    "for i in range(1,6):\n",
    "    list_var.append(i)\n",
    "    print(*list_var)"
   ]
  },
  {
   "cell_type": "markdown",
   "metadata": {},
   "source": [
    "Q100. Write a python program to print below pattern.\n",
    "```\n",
    "A \n",
    "B B \n",
    "C C C \n",
    "D D D D \n",
    "E E E E E \n",
    "```"
   ]
  },
  {
   "cell_type": "code",
   "execution_count": 114,
   "metadata": {},
   "outputs": [
    {
     "name": "stdout",
     "output_type": "stream",
     "text": [
      "A \n",
      "B B \n",
      "C C C \n",
      "D D D D \n",
      "E E E E E \n"
     ]
    }
   ],
   "source": [
    "alpha_list = ['A ','B ','C ','D ','E ']\n",
    "for i in range(len(alpha_list)):\n",
    "    for j in range(1,6):\n",
    "        if(i<j):\n",
    "            print(alpha_list[i]*j)\n",
    "            break"
   ]
  },
  {
   "cell_type": "code",
   "execution_count": null,
   "metadata": {},
   "outputs": [],
   "source": []
  }
 ],
 "metadata": {
  "kernelspec": {
   "display_name": "Python 3",
   "language": "python",
   "name": "python3"
  },
  "language_info": {
   "codemirror_mode": {
    "name": "ipython",
    "version": 3
   },
   "file_extension": ".py",
   "mimetype": "text/x-python",
   "name": "python",
   "nbconvert_exporter": "python",
   "pygments_lexer": "ipython3",
   "version": "3.6.8"
  }
 },
 "nbformat": 4,
 "nbformat_minor": 4
}
