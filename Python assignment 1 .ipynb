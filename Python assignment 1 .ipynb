{
 "cells": [
  {
   "cell_type": "markdown",
   "metadata": {},
   "source": [
    "Q1. Why do we call Python as a general purpose and high-level programming language?\n",
    "\n",
    "We call python a genral perpose language because we can use python for multiple purposes from web designing, \n",
    "building software, machine learning and deep learning softwares etc.\n",
    "And its called a high-level programming language because it easy for human understanding ie it is closer to human \n",
    "language and farther than machine language. \n"
   ]
  },
  {
   "cell_type": "markdown",
   "metadata": {},
   "source": [
    "Q2. Why is Python called a dynamically typed language?\n",
    "\n",
    "Because when-ever we assign a value to a variable it(python) dynamically assigns the apporpriate data type for it \n"
   ]
  },
  {
   "cell_type": "markdown",
   "metadata": {},
   "source": [
    "Q3. List some pros and cons of Python programming language?\n",
    "\n",
    "Pros \n",
    "1 easy to understand and learn\n",
    "2 strong developer support \n",
    "3 rich library support to write very difficult programs in simple 4-5 lines etc.\n",
    "Cons\n",
    "1 it is slow compared to c/c++ so it might be difficult to use on the end devices if there is a very low latency requirement.\n",
    "\n"
   ]
  },
  {
   "cell_type": "markdown",
   "metadata": {},
   "source": [
    "Q4. In what all domains can we use Python?\n",
    "\n",
    "1 Web Development\n",
    "2 Artificial intelligence ML/DL\n",
    "3 software development\n",
    "4 big data \n",
    "5 robotics etc.\n"
   ]
  },
  {
   "cell_type": "markdown",
   "metadata": {},
   "source": [
    "Q5. What are variable and how can we declare them?\n",
    "\n",
    "variable is name given to a memory location \n",
    "a = 5   here a is a variable name given to a memory location which stores an integer whose value is 5\n"
   ]
  },
  {
   "cell_type": "markdown",
   "metadata": {},
   "source": [
    "Q6. How can we take an input from the user in Python?"
   ]
  },
  {
   "cell_type": "code",
   "execution_count": 4,
   "metadata": {},
   "outputs": [
    {
     "name": "stdout",
     "output_type": "stream",
     "text": [
      "Enter any value10\n"
     ]
    }
   ],
   "source": [
    "input_var = input(\"Enter any value\")"
   ]
  },
  {
   "cell_type": "markdown",
   "metadata": {},
   "source": [
    "Q7. What is the default datatype of the value that has been taken as an input using input() function?\n",
    "\n",
    "\n",
    "\n",
    "String is the default datatype of the value that has been taken as an input using input() function\n"
   ]
  },
  {
   "cell_type": "markdown",
   "metadata": {},
   "source": [
    "Q8. What is type casting?\n",
    "\n",
    "So the default datatype of the value that has been taken as an input using input() function is string \n",
    "so to perform operation on it or lets say we are making an calculator app in python but the user input \n",
    "is a string so to persform operations on the input values we have to change its type to we type cast it to int \n",
    "so like "
   ]
  },
  {
   "cell_type": "code",
   "execution_count": 7,
   "metadata": {},
   "outputs": [
    {
     "name": "stdout",
     "output_type": "stream",
     "text": [
      "input first val 5\n",
      "input second val 6\n",
      "sumation is  11\n"
     ]
    }
   ],
   "source": [
    "val_1 = int(input(\"input first val \"))\n",
    "val_2 = int(input(\"input second val \"))\n",
    "print(\"sumation is \",val_1+val_2)"
   ]
  },
  {
   "cell_type": "markdown",
   "metadata": {},
   "source": [
    "Q9. Can we take more than one input from the user using single input() function? If yes, how? If no, why?\n",
    "Yes "
   ]
  },
  {
   "cell_type": "code",
   "execution_count": 17,
   "metadata": {},
   "outputs": [
    {
     "name": "stdout",
     "output_type": "stream",
     "text": [
      "select 1 for addition\n",
      "select 2 for substraction\n",
      "select 3 for multiplication\n",
      "select 4 for division\n",
      "'num 1' space 'num 2' space 'operator' 3 3 3 \n",
      "multiplication =  9\n"
     ]
    }
   ],
   "source": [
    "while(True):\n",
    "    print(\"select 1 for addition\")\n",
    "    print(\"select 2 for substraction\")\n",
    "    print(\"select 3 for multiplication\")\n",
    "    print(\"select 4 for division\")\n",
    "\n",
    "    num_1,num_2,operation_num = list(map(int,input(\"'num 1' space 'num 2' space 'operator' \").split()))\n",
    "    if(operation_num == 1):\n",
    "        print(\"summation = \", num_1+num_2)\n",
    "        break\n",
    "    elif(operation_num == 2):\n",
    "        print(\"substraction = \", num_1-num_2)\n",
    "        break\n",
    "    elif(operation_num == 3):\n",
    "        print(\"multiplication = \", num_1*num_2)\n",
    "        break\n",
    "    elif(operation_num == 4):\n",
    "        print(\"division = \", num_1/num_2) #float division\n",
    "        break\n",
    "    else:\n",
    "        print(\"enter valid operator\")"
   ]
  },
  {
   "cell_type": "markdown",
   "metadata": {},
   "source": [
    "Q10. What are keywords?\n",
    "\n",
    "Keywords are special variables who have some special functionality assigned to it ."
   ]
  },
  {
   "cell_type": "markdown",
   "metadata": {},
   "source": [
    "Q11. Can we use keywords as a variable? Support your answer with reason\n",
    "\n",
    "No we cannot use keywords as a variable name as it will create an ambiguity for the intepreter as to which it the variable and which one is the keyword .\n",
    "So we should not use keywords as vaariables."
   ]
  },
  {
   "cell_type": "markdown",
   "metadata": {},
   "source": [
    "Q12. What is indentation? What's the use of indentaion in Python?\n",
    "\n",
    "So in other languagel like c/c++ we have to use brackets to define the score or range of that function/variables or that block of code \n",
    "in python instead of using brakets we use indentation .\n",
    "We can still use brackets but the indentation is more intutive for humans ."
   ]
  },
  {
   "cell_type": "markdown",
   "metadata": {},
   "source": [
    "Q13. How can we throw some output in Python?\n",
    "\n",
    "Using print(\" \") statement"
   ]
  },
  {
   "cell_type": "code",
   "execution_count": 40,
   "metadata": {},
   "outputs": [
    {
     "name": "stdout",
     "output_type": "stream",
     "text": [
      "INeuron BigData Bootcamp 2.0 is the best in the world #proud Indian\n"
     ]
    }
   ],
   "source": [
    "print(\"INeuron BigData Bootcamp 2.0 is the best in the world #proud Indian\")"
   ]
  },
  {
   "cell_type": "markdown",
   "metadata": {},
   "source": [
    "Q14. What are operators in Python?\n",
    "\n",
    "operators are nothing but symbols who have some functionality assigned to it, lets say \"+\" operator  it has the addition operation assiged to it .\n",
    "\n",
    "Different types of operators in python\n",
    "1 Arithmetic operator\n",
    "\n",
    "2 Logical operator \n",
    "\n",
    "3 Assignment operator\n",
    "\n",
    "4 Comparision operator etc\n",
    "\n"
   ]
  },
  {
   "cell_type": "markdown",
   "metadata": {},
   "source": [
    "Q15. What is difference between / and // operators?\n",
    "\n",
    "so / float division and // is integer division ie 5/2 = 2.5 and 5//2 is 2"
   ]
  },
  {
   "cell_type": "markdown",
   "metadata": {},
   "source": [
    "Q16. Write a code that gives following as an output.\n",
    "```\n",
    "iNeuroniNeuroniNeuroniNeuron\n",
    "\n",
    "```"
   ]
  },
  {
   "cell_type": "code",
   "execution_count": 20,
   "metadata": {},
   "outputs": [
    {
     "name": "stdout",
     "output_type": "stream",
     "text": [
      "iNeuroniNeuroniNeuroniNeuron\n"
     ]
    }
   ],
   "source": [
    "print(\"iNeuron\"*4)"
   ]
  },
  {
   "cell_type": "markdown",
   "metadata": {},
   "source": [
    "Q17. Write a code to take a number as an input from the user and check if the number is odd or even.\n"
   ]
  },
  {
   "cell_type": "code",
   "execution_count": 21,
   "metadata": {},
   "outputs": [
    {
     "name": "stdout",
     "output_type": "stream",
     "text": [
      "44\n",
      "even number\n"
     ]
    }
   ],
   "source": [
    "num = int(input())\n",
    "if(num%2==0):\n",
    "  print(\"even number\")\n",
    "else:\n",
    "  print(\"odd number\")"
   ]
  },
  {
   "cell_type": "markdown",
   "metadata": {},
   "source": [
    "Q18. What are boolean operator?\n",
    "\n",
    "In computer science, a Boolean expression is an expression used in programming languages that produces a Boolean value when evaluated. A Boolean value is either true or false. A Boolean expression may be composed of a combination of the Boolean constants true or false, Boolean-typed variables, Boolean-valued operators, and Boolean-valued functions.\n",
    "REFERENCE - WIKIPEDIA\n",
    "\n",
    "so lets say i wanted to check if my list contains a certain element"
   ]
  },
  {
   "cell_type": "code",
   "execution_count": 44,
   "metadata": {},
   "outputs": [
    {
     "data": {
      "text/plain": [
       "True"
      ]
     },
     "execution_count": 44,
     "metadata": {},
     "output_type": "execute_result"
    }
   ],
   "source": [
    "numbers = [12, 75, 150, 180, 145, 525, 50]\n",
    "106 not in numbers"
   ]
  },
  {
   "cell_type": "markdown",
   "metadata": {},
   "source": [
    "Q19. What will the output of the following?\n",
    "\n",
    "```\n",
    "1 or 0\n",
    "1\n",
    "0 and 0\n",
    "0\n",
    "True and False and True\n",
    "False\n",
    "1 or 0 or 0\n",
    "1\n",
    "```\n"
   ]
  },
  {
   "cell_type": "code",
   "execution_count": 23,
   "metadata": {},
   "outputs": [
    {
     "name": "stdout",
     "output_type": "stream",
     "text": [
      "1\n",
      "0\n",
      "False\n",
      "1\n"
     ]
    }
   ],
   "source": [
    "print(1 or 0)\n",
    "print(0 and 0)\n",
    "print(True and False and True)\n",
    "print(1 or 0 or 0)"
   ]
  },
  {
   "cell_type": "markdown",
   "metadata": {},
   "source": [
    "Q20. What are conditional statements in Python?\n",
    "\n",
    "conditional statement in python is a statement which allows to execute one block of code or another block of code based on a condition\n"
   ]
  },
  {
   "cell_type": "markdown",
   "metadata": {},
   "source": [
    "Q21. What is use of 'if', 'elif' and 'else' keywords?\n",
    "\n",
    "\" if \" conditional statement is used to execute cetrain block of code if a certain condition is satisfied \n",
    "\" elif \" statement is used to check another condition if the above \" if \" condition fails\n",
    "\" else \" statement is used to execute a block of code if every above condition fails\n"
   ]
  },
  {
   "cell_type": "code",
   "execution_count": 61,
   "metadata": {},
   "outputs": [
    {
     "name": "stdout",
     "output_type": "stream",
     "text": [
      "33\n",
      "barely pass\n"
     ]
    }
   ],
   "source": [
    "marks = int(input())\n",
    "threshold = 33\n",
    "if(marks>threshold):\n",
    "    print(\"Pass\")\n",
    "elif(marks==33):\n",
    "    print(\"barely pass\")\n",
    "else:\n",
    "    print(\"Fail\")\n"
   ]
  },
  {
   "cell_type": "markdown",
   "metadata": {},
   "source": [
    "Q22. Write a code to take the age of person as an input and if age >= 18 display \"I can vote\". If age is < 18 display \"I can't vote\".\n"
   ]
  },
  {
   "cell_type": "code",
   "execution_count": 26,
   "metadata": {},
   "outputs": [
    {
     "name": "stdout",
     "output_type": "stream",
     "text": [
      "enter your input17\n",
      "i can't vote\n"
     ]
    }
   ],
   "source": [
    "age = int(input(\"enter your input\"))\n",
    "if(age>=18):\n",
    "    print(\"I can vote\")\n",
    "else:\n",
    "    print(\"i can't vote\")"
   ]
  },
  {
   "cell_type": "markdown",
   "metadata": {},
   "source": [
    "Q23. Write a code that displays the sum of all the even numbers from the given list.\n",
    "```\n",
    "numbers = [12, 75, 150, 180, 145, 525, 50]\n",
    "```"
   ]
  },
  {
   "cell_type": "code",
   "execution_count": 29,
   "metadata": {},
   "outputs": [
    {
     "name": "stdout",
     "output_type": "stream",
     "text": [
      "sum of all the even numbers is 392\n"
     ]
    }
   ],
   "source": [
    "numbers = [12, 75, 150, 180, 145, 525, 50]\n",
    "\n",
    "sum_var = 0\n",
    "for i in numbers:\n",
    "    if(i%2==0):\n",
    "        sum_var+=i\n",
    "print(\"sum of all the even numbers is\",sum_var)"
   ]
  },
  {
   "cell_type": "markdown",
   "metadata": {},
   "source": [
    "Q24. Write a code to take 3 numbers as an input from the user and display the greatest no as output.\n"
   ]
  },
  {
   "cell_type": "code",
   "execution_count": 35,
   "metadata": {},
   "outputs": [
    {
     "name": "stdout",
     "output_type": "stream",
     "text": [
      "Enter 3 numbers 34 43 3\n",
      "greatest number is  43\n"
     ]
    }
   ],
   "source": [
    "num_1,num_2,num_3 = list(map(int,input(\"Enter 3 numbers \").split()))\n",
    "if(num_1>num_2):\n",
    "    if(num_1>num_3):\n",
    "        print('greatest number is ',num_1)\n",
    "    else:\n",
    "        print('greatest number is ',num_3)\n",
    "elif(num_2>num_3):\n",
    "    print('greatest number is ',num_2)\n",
    "else:\n",
    "    print('greatest number is ',num_3)\n",
    "# here if all the numbers are equal the code will print num 3 as biggest number"
   ]
  },
  {
   "cell_type": "markdown",
   "metadata": {},
   "source": [
    "Q25. Write a program to display only those numbers from a list that satisfy the following conditions\n",
    "\n",
    "- The number must be divisible by five\n",
    "\n",
    "- If the number is greater than 150, then skip it and move to the next number\n",
    "\n",
    "- If the number is greater than 500, then stop the loop\n",
    "```\n",
    "numbers = [12, 75, 150, 180, 145, 525, 50]\n",
    "```\n"
   ]
  },
  {
   "cell_type": "code",
   "execution_count": 39,
   "metadata": {},
   "outputs": [
    {
     "name": "stdout",
     "output_type": "stream",
     "text": [
      "75\n",
      "150\n",
      "145\n"
     ]
    }
   ],
   "source": [
    "numbers = [12, 75, 150, 180, 145, 525, 50]\n",
    "for i in numbers:\n",
    "    if(i%5==0):\n",
    "        if(i>500):\n",
    "            break\n",
    "        if(i>150):\n",
    "            continue\n",
    "        print(i)"
   ]
  },
  {
   "cell_type": "code",
   "execution_count": null,
   "metadata": {},
   "outputs": [],
   "source": []
  }
 ],
 "metadata": {
  "kernelspec": {
   "display_name": "Python 3",
   "language": "python",
   "name": "python3"
  },
  "language_info": {
   "codemirror_mode": {
    "name": "ipython",
    "version": 3
   },
   "file_extension": ".py",
   "mimetype": "text/x-python",
   "name": "python",
   "nbconvert_exporter": "python",
   "pygments_lexer": "ipython3",
   "version": "3.6.8"
  }
 },
 "nbformat": 4,
 "nbformat_minor": 4
}
